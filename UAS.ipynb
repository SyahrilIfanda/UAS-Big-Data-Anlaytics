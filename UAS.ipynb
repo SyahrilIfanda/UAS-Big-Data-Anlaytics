{
 "cells": [
  {
   "cell_type": "code",
   "execution_count": 1,
   "id": "832d30a5",
   "metadata": {},
   "outputs": [
    {
     "name": "stdout",
     "output_type": "stream",
     "text": [
      "Requirement already satisfied: pyspark in c:\\users\\lenovo\\anaconda3\\lib\\site-packages (3.5.0)\n",
      "Requirement already satisfied: py4j in c:\\users\\lenovo\\anaconda3\\lib\\site-packages (0.10.9.7)\n"
     ]
    }
   ],
   "source": [
    "#INSTAL LIBRARY PYSPARK\n",
    "\n",
    "!pip install pyspark py4j\n"
   ]
  },
  {
   "cell_type": "code",
   "execution_count": 2,
   "id": "0a07dc9e",
   "metadata": {},
   "outputs": [
    {
     "data": {
      "text/html": [
       "\n",
       "            <div>\n",
       "                <p><b>SparkSession - in-memory</b></p>\n",
       "                \n",
       "        <div>\n",
       "            <p><b>SparkContext</b></p>\n",
       "\n",
       "            <p><a href=\"http://LAPTOP-KPIMFQAI:4041\">Spark UI</a></p>\n",
       "\n",
       "            <dl>\n",
       "              <dt>Version</dt>\n",
       "                <dd><code>v3.5.0</code></dd>\n",
       "              <dt>Master</dt>\n",
       "                <dd><code>local[*]</code></dd>\n",
       "              <dt>AppName</dt>\n",
       "                <dd><code>mypyspark</code></dd>\n",
       "            </dl>\n",
       "        </div>\n",
       "        \n",
       "            </div>\n",
       "        "
      ],
      "text/plain": [
       "<pyspark.sql.session.SparkSession at 0x2dc760c2590>"
      ]
     },
     "execution_count": 2,
     "metadata": {},
     "output_type": "execute_result"
    }
   ],
   "source": [
    "#MEMBUAT SPARK SESSION\n",
    "\n",
    "from pyspark.sql import SparkSession\n",
    "import findspark\n",
    "findspark.init()\n",
    "from pyspark import SparkFiles\n",
    "from pyspark.sql import SparkSession\n",
    "\n",
    "from pyspark.ml.feature import VectorAssembler, StandardScaler\n",
    "from pyspark.ml.clustering import KMeans\n",
    "from pyspark.ml.evaluation import ClusteringEvaluator\n",
    "import matplotlib.pyplot as plt\n",
    "import pandas as pd\n",
    "from sklearn.cluster import KMeans\n",
    "from sklearn.metrics import silhouette_score\n",
    "\n",
    "spark = SparkSession.builder.appName(\"mypyspark\").getOrCreate()\n",
    "spark"
   ]
  },
  {
   "cell_type": "code",
   "execution_count": 3,
   "id": "0b804298",
   "metadata": {},
   "outputs": [],
   "source": [
    "#MEMBACA DATA Automobile_data.csv \n",
    "\n",
    "data = spark.read.csv(\"AHH.csv\", header=True, inferSchema=True)\n"
   ]
  },
  {
   "cell_type": "code",
   "execution_count": 4,
   "id": "5633ef1f",
   "metadata": {},
   "outputs": [],
   "source": [
    "columns_to_drop = [ '_c3', '_c4', '_c5','_c6','_c7']\n",
    "data = data.drop(*columns_to_drop)"
   ]
  },
  {
   "cell_type": "code",
   "execution_count": 5,
   "id": "a01fd49d",
   "metadata": {},
   "outputs": [
    {
     "name": "stdout",
     "output_type": "stream",
     "text": [
      "+------------+---------+---------+\n",
      "|      Daerah|Laki-laki|Perempuan|\n",
      "+------------+---------+---------+\n",
      "|        ACEH|    68.26|    72.16|\n",
      "|    SIMEULUE|    63.52|    67.36|\n",
      "|    Simeulue|    63.52|    67.36|\n",
      "|ACEH SINGKIL|    65.56|    69.54|\n",
      "|Aceh Singkil|    65.56|    69.54|\n",
      "+------------+---------+---------+\n",
      "only showing top 5 rows\n",
      "\n",
      "root\n",
      " |-- Daerah: string (nullable = true)\n",
      " |-- Laki-laki: double (nullable = true)\n",
      " |-- Perempuan: double (nullable = true)\n",
      "\n",
      "+-------+------+------------------+------------------+\n",
      "|summary|Daerah|         Laki-laki|         Perempuan|\n",
      "+-------+------+------------------+------------------+\n",
      "|  count|  1067|              1067|              1067|\n",
      "|   mean|  NULL| 67.95431115276463| 71.86049671977506|\n",
      "| stddev|  NULL|3.4174378683662683|3.3645240076519234|\n",
      "|    min|  ACEH|             53.86|             57.36|\n",
      "|    max|Yalimo|             76.09|             79.83|\n",
      "+-------+------+------------------+------------------+\n",
      "\n"
     ]
    }
   ],
   "source": [
    "data.show(5)\n",
    "data.printSchema()\n",
    "data.describe().show()"
   ]
  },
  {
   "cell_type": "code",
   "execution_count": 6,
   "id": "8ac8fd17",
   "metadata": {},
   "outputs": [],
   "source": [
    "data = data.na.drop()"
   ]
  },
  {
   "cell_type": "code",
   "execution_count": 7,
   "id": "b3e818fb",
   "metadata": {},
   "outputs": [],
   "source": [
    "from pyspark.ml.feature import VectorAssembler\n",
    "assembler = VectorAssembler(\n",
    "    inputCols = ['Laki-laki','Perempuan'],\n",
    "    outputCol = \"features\")"
   ]
  },
  {
   "cell_type": "code",
   "execution_count": 8,
   "id": "2bc54754",
   "metadata": {},
   "outputs": [],
   "source": [
    "data = assembler.transform(data)"
   ]
  },
  {
   "cell_type": "code",
   "execution_count": 9,
   "id": "1ad12c59",
   "metadata": {},
   "outputs": [
    {
     "name": "stdout",
     "output_type": "stream",
     "text": [
      "+-------------+\n",
      "|     features|\n",
      "+-------------+\n",
      "|[68.26,72.16]|\n",
      "|[63.52,67.36]|\n",
      "|[63.52,67.36]|\n",
      "|[65.56,69.54]|\n",
      "|[65.56,69.54]|\n",
      "+-------------+\n",
      "only showing top 5 rows\n",
      "\n"
     ]
    }
   ],
   "source": [
    "data.select('features').show(5)"
   ]
  },
  {
   "cell_type": "code",
   "execution_count": 10,
   "id": "477fea46",
   "metadata": {},
   "outputs": [],
   "source": [
    "from pyspark.ml.feature import StandardScaler\n",
    "\n",
    "scaler = StandardScaler(inputCol=\"features\", outputCol=\"scaledFeat\", withStd=True, withMean=False)\n",
    "scaler_model = scaler.fit(data)\n",
    "data = scaler_model.transform(data)\n"
   ]
  },
  {
   "cell_type": "code",
   "execution_count": 20,
   "id": "72bff2f7",
   "metadata": {},
   "outputs": [
    {
     "name": "stdout",
     "output_type": "stream",
     "text": [
      "root\n",
      " |-- Daerah: string (nullable = true)\n",
      " |-- Laki-laki: double (nullable = true)\n",
      " |-- Perempuan: double (nullable = true)\n",
      " |-- features: vector (nullable = true)\n",
      " |-- scaledFeat: vector (nullable = true)\n",
      "\n"
     ]
    }
   ],
   "source": [
    "data.printSchema()"
   ]
  },
  {
   "cell_type": "code",
   "execution_count": 26,
   "id": "09b9f2c3",
   "metadata": {},
   "outputs": [],
   "source": [
    "from pyspark.ml.clustering import KMeans\n",
    "kmeans = KMeans(featuresCol='scaledFeat',k=2)"
   ]
  },
  {
   "cell_type": "code",
   "execution_count": 27,
   "id": "bf412f2a",
   "metadata": {},
   "outputs": [],
   "source": [
    "model = kmeans.fit(data)"
   ]
  },
  {
   "cell_type": "code",
   "execution_count": 28,
   "id": "36c09752",
   "metadata": {},
   "outputs": [],
   "source": [
    "results = model.transform(data)"
   ]
  },
  {
   "cell_type": "code",
   "execution_count": 29,
   "id": "89d2ebec",
   "metadata": {},
   "outputs": [],
   "source": [
    "center = model.clusterCenters()"
   ]
  },
  {
   "cell_type": "code",
   "execution_count": 30,
   "id": "b16ec6f3",
   "metadata": {},
   "outputs": [
    {
     "name": "stdout",
     "output_type": "stream",
     "text": [
      "[array([18.97330371, 20.45697604]), array([20.58046086, 22.04657516])]\n"
     ]
    }
   ],
   "source": [
    "print(center)"
   ]
  },
  {
   "cell_type": "code",
   "execution_count": 31,
   "id": "faa0c74a",
   "metadata": {},
   "outputs": [
    {
     "name": "stdout",
     "output_type": "stream",
     "text": [
      "+----------+-----+\n",
      "|prediction|count|\n",
      "+----------+-----+\n",
      "|         1|  605|\n",
      "|         0|  462|\n",
      "+----------+-----+\n",
      "\n"
     ]
    }
   ],
   "source": [
    "results.groupBy('prediction').count().show()"
   ]
  },
  {
   "cell_type": "code",
   "execution_count": 32,
   "id": "f042441a",
   "metadata": {},
   "outputs": [],
   "source": [
    "results_pd = results.toPandas()"
   ]
  },
  {
   "cell_type": "code",
   "execution_count": 33,
   "id": "0903d7ab",
   "metadata": {},
   "outputs": [
    {
     "data": {
      "text/html": [
       "<div>\n",
       "<style scoped>\n",
       "    .dataframe tbody tr th:only-of-type {\n",
       "        vertical-align: middle;\n",
       "    }\n",
       "\n",
       "    .dataframe tbody tr th {\n",
       "        vertical-align: top;\n",
       "    }\n",
       "\n",
       "    .dataframe thead th {\n",
       "        text-align: right;\n",
       "    }\n",
       "</style>\n",
       "<table border=\"1\" class=\"dataframe\">\n",
       "  <thead>\n",
       "    <tr style=\"text-align: right;\">\n",
       "      <th></th>\n",
       "      <th>Daerah</th>\n",
       "      <th>Laki-laki</th>\n",
       "      <th>Perempuan</th>\n",
       "      <th>features</th>\n",
       "      <th>scaledFeat</th>\n",
       "      <th>prediction</th>\n",
       "    </tr>\n",
       "  </thead>\n",
       "  <tbody>\n",
       "    <tr>\n",
       "      <th>0</th>\n",
       "      <td>ACEH</td>\n",
       "      <td>68.26</td>\n",
       "      <td>72.16</td>\n",
       "      <td>[68.26, 72.16]</td>\n",
       "      <td>[19.974028096268565, 21.447313152138843]</td>\n",
       "      <td>1</td>\n",
       "    </tr>\n",
       "    <tr>\n",
       "      <th>1</th>\n",
       "      <td>SIMEULUE</td>\n",
       "      <td>63.52</td>\n",
       "      <td>67.36</td>\n",
       "      <td>[63.52, 67.36]</td>\n",
       "      <td>[18.587024094271598, 20.02066260986797]</td>\n",
       "      <td>0</td>\n",
       "    </tr>\n",
       "    <tr>\n",
       "      <th>2</th>\n",
       "      <td>Simeulue</td>\n",
       "      <td>63.52</td>\n",
       "      <td>67.36</td>\n",
       "      <td>[63.52, 67.36]</td>\n",
       "      <td>[18.587024094271598, 20.02066260986797]</td>\n",
       "      <td>0</td>\n",
       "    </tr>\n",
       "    <tr>\n",
       "      <th>3</th>\n",
       "      <td>ACEH SINGKIL</td>\n",
       "      <td>65.56</td>\n",
       "      <td>69.54</td>\n",
       "      <td>[65.56, 69.54]</td>\n",
       "      <td>[19.1839625255108, 20.668599731149328]</td>\n",
       "      <td>0</td>\n",
       "    </tr>\n",
       "    <tr>\n",
       "      <th>4</th>\n",
       "      <td>Aceh Singkil</td>\n",
       "      <td>65.56</td>\n",
       "      <td>69.54</td>\n",
       "      <td>[65.56, 69.54]</td>\n",
       "      <td>[19.1839625255108, 20.668599731149328]</td>\n",
       "      <td>0</td>\n",
       "    </tr>\n",
       "    <tr>\n",
       "      <th>...</th>\n",
       "      <td>...</td>\n",
       "      <td>...</td>\n",
       "      <td>...</td>\n",
       "      <td>...</td>\n",
       "      <td>...</td>\n",
       "      <td>...</td>\n",
       "    </tr>\n",
       "    <tr>\n",
       "      <th>1062</th>\n",
       "      <td>Deiyai</td>\n",
       "      <td>63.72</td>\n",
       "      <td>67.61</td>\n",
       "      <td>[63.72, 67.61]</td>\n",
       "      <td>[18.645547469883283, 20.094967325611243]</td>\n",
       "      <td>0</td>\n",
       "    </tr>\n",
       "    <tr>\n",
       "      <th>1063</th>\n",
       "      <td>KOTA JAYAPURA</td>\n",
       "      <td>68.75</td>\n",
       "      <td>72.79</td>\n",
       "      <td>[68.75, 72.79]</td>\n",
       "      <td>[20.1174103665172, 21.6345610358119]</td>\n",
       "      <td>1</td>\n",
       "    </tr>\n",
       "    <tr>\n",
       "      <th>1064</th>\n",
       "      <td>Kota Jayapura</td>\n",
       "      <td>68.75</td>\n",
       "      <td>72.79</td>\n",
       "      <td>[68.75, 72.79]</td>\n",
       "      <td>[20.1174103665172, 21.6345610358119]</td>\n",
       "      <td>1</td>\n",
       "    </tr>\n",
       "    <tr>\n",
       "      <th>1065</th>\n",
       "      <td>INDONESIA</td>\n",
       "      <td>69.93</td>\n",
       "      <td>73.83</td>\n",
       "      <td>[69.93, 73.83]</td>\n",
       "      <td>[20.46269828262615, 21.94366865330392]</td>\n",
       "      <td>1</td>\n",
       "    </tr>\n",
       "    <tr>\n",
       "      <th>1066</th>\n",
       "      <td>INDONESIA</td>\n",
       "      <td>69.93</td>\n",
       "      <td>73.83</td>\n",
       "      <td>[69.93, 73.83]</td>\n",
       "      <td>[20.46269828262615, 21.94366865330392]</td>\n",
       "      <td>1</td>\n",
       "    </tr>\n",
       "  </tbody>\n",
       "</table>\n",
       "<p>1067 rows × 6 columns</p>\n",
       "</div>"
      ],
      "text/plain": [
       "             Daerah  Laki-laki  Perempuan        features  \\\n",
       "0              ACEH      68.26      72.16  [68.26, 72.16]   \n",
       "1          SIMEULUE      63.52      67.36  [63.52, 67.36]   \n",
       "2          Simeulue      63.52      67.36  [63.52, 67.36]   \n",
       "3      ACEH SINGKIL      65.56      69.54  [65.56, 69.54]   \n",
       "4      Aceh Singkil      65.56      69.54  [65.56, 69.54]   \n",
       "...             ...        ...        ...             ...   \n",
       "1062         Deiyai      63.72      67.61  [63.72, 67.61]   \n",
       "1063  KOTA JAYAPURA      68.75      72.79  [68.75, 72.79]   \n",
       "1064  Kota Jayapura      68.75      72.79  [68.75, 72.79]   \n",
       "1065      INDONESIA      69.93      73.83  [69.93, 73.83]   \n",
       "1066      INDONESIA      69.93      73.83  [69.93, 73.83]   \n",
       "\n",
       "                                    scaledFeat  prediction  \n",
       "0     [19.974028096268565, 21.447313152138843]           1  \n",
       "1      [18.587024094271598, 20.02066260986797]           0  \n",
       "2      [18.587024094271598, 20.02066260986797]           0  \n",
       "3       [19.1839625255108, 20.668599731149328]           0  \n",
       "4       [19.1839625255108, 20.668599731149328]           0  \n",
       "...                                        ...         ...  \n",
       "1062  [18.645547469883283, 20.094967325611243]           0  \n",
       "1063      [20.1174103665172, 21.6345610358119]           1  \n",
       "1064      [20.1174103665172, 21.6345610358119]           1  \n",
       "1065    [20.46269828262615, 21.94366865330392]           1  \n",
       "1066    [20.46269828262615, 21.94366865330392]           1  \n",
       "\n",
       "[1067 rows x 6 columns]"
      ]
     },
     "execution_count": 33,
     "metadata": {},
     "output_type": "execute_result"
    }
   ],
   "source": [
    "# MENAMPILKAN DATA SETELAH DI CONVERT KE PANDAS\n",
    "\n",
    "results_pd"
   ]
  },
  {
   "cell_type": "code",
   "execution_count": 34,
   "id": "387bbda3",
   "metadata": {},
   "outputs": [],
   "source": [
    "cluster = ClusteringEvaluator()"
   ]
  },
  {
   "cell_type": "code",
   "execution_count": 35,
   "id": "5982cf6e",
   "metadata": {},
   "outputs": [
    {
     "name": "stdout",
     "output_type": "stream",
     "text": [
      "Silhoutte result = 0.7107780629577979\n"
     ]
    }
   ],
   "source": [
    "# MENAMPILKAN HASIL EVALUASI CLUSTERING K MEANS DENGAN 2 CLUSTER ATAU K=2\n",
    "\n",
    "silhoutte = cluster.evaluate(results)\n",
    "print(\"Silhoutte result = \" + str(silhoutte))"
   ]
  },
  {
   "cell_type": "code",
   "execution_count": 45,
   "id": "abafe567",
   "metadata": {},
   "outputs": [
    {
     "data": {
      "image/png": "[encoded data removed]",
      "text/plain": [
       "<Figure size 640x480 with 1 Axes>"
      ]
     },
     "metadata": {},
     "output_type": "display_data"
    }
   ],
   "source": [
    "# VISUALISASI MENGGUNAKAN SCATTER PLOT\n",
    "\n",
    "plt.scatter(results_pd['scaledFeat'].apply(lambda x: x[0]),\n",
    "            results_pd['features'].apply(lambda x: x[1]),\n",
    "            c=results_pd['prediction'],\n",
    "            cmap='rainbow')\n",
    "plt.title(\"Clustering Results\")\n",
    "plt.ylabel('Umur Harapan')\n",
    "plt.show()"
   ]
  },
  {
   "cell_type": "code",
   "execution_count": null,
   "id": "b950dba7",
   "metadata": {},
   "outputs": [],
   "source": []
  }
 ],
 "metadata": {
  "kernelspec": {
   "display_name": "Python 3 (ipykernel)",
   "language": "python",
   "name": "python3"
  },
  "language_info": {
   "codemirror_mode": {
    "name": "ipython",
    "version": 3
   },
   "file_extension": ".py",
   "mimetype": "text/x-python",
   "name": "python",
   "nbconvert_exporter": "python",
   "pygments_lexer": "ipython3",
   "version": "3.11.5"
  }
 },
 "nbformat": 4,
 "nbformat_minor": 5
}
